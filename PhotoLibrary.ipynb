{
  "nbformat": 4,
  "nbformat_minor": 0,
  "metadata": {
    "colab": {
      "name": "Copy of Titanic_BigQuery.ipynb",
      "version": "0.3.2",
      "provenance": [],
      "include_colab_link": true
    },
    "kernelspec": {
      "name": "python3",
      "display_name": "Python 3"
    }
  },
  "cells": [
    {
      "cell_type": "markdown",
      "metadata": {
        "id": "view-in-github",
        "colab_type": "text"
      },
      "source": [
        "<a href=\"https://colab.research.google.com/github/ArivoliRajan/GCP-Data-Engineer-Study-Guide/blob/master/PhotoLibrary.ipynb\" target=\"_parent\"><img src=\"https://colab.research.google.com/assets/colab-badge.svg\" alt=\"Open In Colab\"/></a>"
      ]
    },
    {
      "cell_type": "markdown",
      "metadata": {
        "id": "ofg7gY7pW002",
        "colab_type": "text"
      },
      "source": [
        "#Titanic Data to BigQuery\n",
        "\n"
      ]
    },
    {
      "cell_type": "markdown",
      "metadata": {
        "id": "GeZdnU1byRgy",
        "colab_type": "text"
      },
      "source": [
        "## Setting up Data\n",
        "\n"
      ]
    },
    {
      "cell_type": "code",
      "metadata": {
        "colab_type": "code",
        "id": "Eyn8FN3fn7v2",
        "outputId": "f8237e73-96ed-4449-efab-5258d7b68adc",
        "colab": {
          "base_uri": "https://localhost:8080/",
          "height": 34
        }
      },
      "source": [
        "# log in with the email account associated with your GCP.\n",
        "from google.colab import auth\n",
        "auth.authenticate_user()\n",
        "print('Authenticated')"
      ],
      "execution_count": 1,
      "outputs": [
        {
          "output_type": "stream",
          "text": [
            "Authenticated\n"
          ],
          "name": "stdout"
        }
      ]
    },
    {
      "cell_type": "markdown",
      "metadata": {
        "id": "MvLDs0i4W_cn",
        "colab_type": "text"
      },
      "source": [
        "## Installing and loading libraries"
      ]
    },
    {
      "cell_type": "code",
      "metadata": {
        "id": "Oy3mlqW2WSBd",
        "colab_type": "code",
        "outputId": "e6ca8318-4702-4759-8ea3-4f7250ff5be3",
        "colab": {
          "base_uri": "https://localhost:8080/",
          "height": 377
        }
      },
      "source": [
        "!pip install -q apache_beam[gcp]\n",
        "import apache_beam as beam\n",
        "import csv\n"
      ],
      "execution_count": 2,
      "outputs": [
        {
          "output_type": "stream",
          "text": [
            "\u001b[K     |████████████████████████████████| 2.9MB 2.8MB/s \n",
            "\u001b[K     |████████████████████████████████| 1.2MB 49.1MB/s \n",
            "\u001b[K     |████████████████████████████████| 153kB 61.9MB/s \n",
            "\u001b[K     |████████████████████████████████| 81kB 21.7MB/s \n",
            "\u001b[K     |████████████████████████████████| 51kB 22.4MB/s \n",
            "\u001b[K     |████████████████████████████████| 61kB 21.4MB/s \n",
            "\u001b[K     |████████████████████████████████| 102kB 32.9MB/s \n",
            "\u001b[K     |████████████████████████████████| 92kB 32.1MB/s \n",
            "\u001b[K     |████████████████████████████████| 163kB 58.0MB/s \n",
            "\u001b[K     |████████████████████████████████| 174kB 60.6MB/s \n",
            "\u001b[K     |████████████████████████████████| 112kB 54.9MB/s \n",
            "\u001b[?25h  Building wheel for dill (setup.py) ... \u001b[?25l\u001b[?25hdone\n",
            "  Building wheel for oauth2client (setup.py) ... \u001b[?25l\u001b[?25hdone\n",
            "  Building wheel for hdfs (setup.py) ... \u001b[?25l\u001b[?25hdone\n",
            "  Building wheel for avro-python3 (setup.py) ... \u001b[?25l\u001b[?25hdone\n",
            "  Building wheel for google-apitools (setup.py) ... \u001b[?25l\u001b[?25hdone\n",
            "  Building wheel for grpc-google-iam-v1 (setup.py) ... \u001b[?25l\u001b[?25hdone\n",
            "\u001b[31mERROR: multiprocess 0.70.8 has requirement dill>=0.3.0, but you'll have dill 0.2.9 which is incompatible.\u001b[0m\n"
          ],
          "name": "stdout"
        },
        {
          "output_type": "stream",
          "text": [
            "/usr/local/lib/python3.6/dist-packages/apache_beam/__init__.py:84: UserWarning: Some syntactic constructs of Python 3 are not yet fully supported by Apache Beam.\n",
            "  'Some syntactic constructs of Python 3 are not yet fully supported by '\n"
          ],
          "name": "stderr"
        }
      ]
    },
    {
      "cell_type": "markdown",
      "metadata": {
        "id": "kMGmNoA7D7e7",
        "colab_type": "text"
      },
      "source": [
        "## Data Load"
      ]
    },
    {
      "cell_type": "code",
      "metadata": {
        "id": "MWQIQ4IrMssh",
        "colab_type": "code",
        "colab": {}
      },
      "source": [
        "fname = 'titanic.csv'"
      ],
      "execution_count": 0,
      "outputs": []
    },
    {
      "cell_type": "code",
      "metadata": {
        "id": "XDWPBSqlD6qo",
        "colab_type": "code",
        "colab": {}
      },
      "source": [
        "# get the file from google cloud storage.\n",
        "\n",
        "from google.cloud import storage\n",
        "\n",
        "project_id = 'titanicproject'\n",
        "client = storage.Client(project=project_id)\n",
        "\n",
        "bucket = client.get_bucket('arivolibucket')\n",
        "\n",
        "blob2 = bucket.blob(fname)\n",
        "blob2.download_to_filename(fname)"
      ],
      "execution_count": 0,
      "outputs": []
    },
    {
      "cell_type": "code",
      "metadata": {
        "id": "X56DA-4bOx3u",
        "colab_type": "code",
        "outputId": "aa397c9b-e231-4ea0-9c11-fb05495848a1",
        "colab": {
          "base_uri": "https://localhost:8080/",
          "height": 136
        }
      },
      "source": [
        "ls -al"
      ],
      "execution_count": 6,
      "outputs": [
        {
          "output_type": "stream",
          "text": [
            "total 88\n",
            "drwxr-xr-x 1 root root  4096 Sep  8 19:29 \u001b[0m\u001b[01;34m.\u001b[0m/\n",
            "drwxr-xr-x 1 root root  4096 Sep  8 19:13 \u001b[01;34m..\u001b[0m/\n",
            "-rw-r--r-- 1 root root  2497 Sep  8 19:23 adc.json\n",
            "drwxr-xr-x 1 root root  4096 Sep  8 19:23 \u001b[01;34m.config\u001b[0m/\n",
            "drwxr-xr-x 1 root root  4096 Aug 27 16:17 \u001b[01;34msample_data\u001b[0m/\n",
            "-rw-r--r-- 1 root root 60302 Sep  8 19:29 titanic.csv\n"
          ],
          "name": "stdout"
        }
      ]
    },
    {
      "cell_type": "code",
      "metadata": {
        "id": "IpWZJVFtO1A_",
        "colab_type": "code",
        "outputId": "1612bc19-301b-45bd-935c-c0ed18e16e9a",
        "colab": {
          "base_uri": "https://localhost:8080/",
          "height": 306
        }
      },
      "source": [
        "import pandas as pd\n",
        "\n",
        "df = pd.read_csv(fname)\n",
        "df.info()"
      ],
      "execution_count": 7,
      "outputs": [
        {
          "output_type": "stream",
          "text": [
            "<class 'pandas.core.frame.DataFrame'>\n",
            "RangeIndex: 891 entries, 0 to 890\n",
            "Data columns (total 12 columns):\n",
            "PassengerId    891 non-null int64\n",
            "Survived       891 non-null int64\n",
            "Pclass         891 non-null int64\n",
            "Name           891 non-null object\n",
            "Sex            891 non-null object\n",
            "Age            714 non-null float64\n",
            "SibSp          891 non-null int64\n",
            "Parch          891 non-null int64\n",
            "Ticket         891 non-null object\n",
            "Fare           891 non-null float64\n",
            "Cabin          204 non-null object\n",
            "Embarked       889 non-null object\n",
            "dtypes: float64(2), int64(5), object(5)\n",
            "memory usage: 83.6+ KB\n"
          ],
          "name": "stdout"
        }
      ]
    },
    {
      "cell_type": "code",
      "metadata": {
        "id": "TcLbh6jLO_z5",
        "colab_type": "code",
        "outputId": "95db3248-fbff-41e6-ff67-80e60b0f87a0",
        "colab": {
          "base_uri": "https://localhost:8080/",
          "height": 204
        }
      },
      "source": [
        "df.head()"
      ],
      "execution_count": 8,
      "outputs": [
        {
          "output_type": "execute_result",
          "data": {
            "text/html": [
              "<div>\n",
              "<style scoped>\n",
              "    .dataframe tbody tr th:only-of-type {\n",
              "        vertical-align: middle;\n",
              "    }\n",
              "\n",
              "    .dataframe tbody tr th {\n",
              "        vertical-align: top;\n",
              "    }\n",
              "\n",
              "    .dataframe thead th {\n",
              "        text-align: right;\n",
              "    }\n",
              "</style>\n",
              "<table border=\"1\" class=\"dataframe\">\n",
              "  <thead>\n",
              "    <tr style=\"text-align: right;\">\n",
              "      <th></th>\n",
              "      <th>PassengerId</th>\n",
              "      <th>Survived</th>\n",
              "      <th>Pclass</th>\n",
              "      <th>Name</th>\n",
              "      <th>Sex</th>\n",
              "      <th>Age</th>\n",
              "      <th>SibSp</th>\n",
              "      <th>Parch</th>\n",
              "      <th>Ticket</th>\n",
              "      <th>Fare</th>\n",
              "      <th>Cabin</th>\n",
              "      <th>Embarked</th>\n",
              "    </tr>\n",
              "  </thead>\n",
              "  <tbody>\n",
              "    <tr>\n",
              "      <th>0</th>\n",
              "      <td>1</td>\n",
              "      <td>0</td>\n",
              "      <td>3</td>\n",
              "      <td>Braund, Mr. Owen Harris</td>\n",
              "      <td>male</td>\n",
              "      <td>22.0</td>\n",
              "      <td>1</td>\n",
              "      <td>0</td>\n",
              "      <td>A/5 21171</td>\n",
              "      <td>7.2500</td>\n",
              "      <td>NaN</td>\n",
              "      <td>S</td>\n",
              "    </tr>\n",
              "    <tr>\n",
              "      <th>1</th>\n",
              "      <td>2</td>\n",
              "      <td>1</td>\n",
              "      <td>1</td>\n",
              "      <td>Cumings, Mrs. John Bradley (Florence Briggs Th...</td>\n",
              "      <td>female</td>\n",
              "      <td>38.0</td>\n",
              "      <td>1</td>\n",
              "      <td>0</td>\n",
              "      <td>PC 17599</td>\n",
              "      <td>71.2833</td>\n",
              "      <td>C85</td>\n",
              "      <td>C</td>\n",
              "    </tr>\n",
              "    <tr>\n",
              "      <th>2</th>\n",
              "      <td>3</td>\n",
              "      <td>1</td>\n",
              "      <td>3</td>\n",
              "      <td>Heikkinen, Miss. Laina</td>\n",
              "      <td>female</td>\n",
              "      <td>26.0</td>\n",
              "      <td>0</td>\n",
              "      <td>0</td>\n",
              "      <td>STON/O2. 3101282</td>\n",
              "      <td>7.9250</td>\n",
              "      <td>NaN</td>\n",
              "      <td>S</td>\n",
              "    </tr>\n",
              "    <tr>\n",
              "      <th>3</th>\n",
              "      <td>4</td>\n",
              "      <td>1</td>\n",
              "      <td>1</td>\n",
              "      <td>Futrelle, Mrs. Jacques Heath (Lily May Peel)</td>\n",
              "      <td>female</td>\n",
              "      <td>35.0</td>\n",
              "      <td>1</td>\n",
              "      <td>0</td>\n",
              "      <td>113803</td>\n",
              "      <td>53.1000</td>\n",
              "      <td>C123</td>\n",
              "      <td>S</td>\n",
              "    </tr>\n",
              "    <tr>\n",
              "      <th>4</th>\n",
              "      <td>5</td>\n",
              "      <td>0</td>\n",
              "      <td>3</td>\n",
              "      <td>Allen, Mr. William Henry</td>\n",
              "      <td>male</td>\n",
              "      <td>35.0</td>\n",
              "      <td>0</td>\n",
              "      <td>0</td>\n",
              "      <td>373450</td>\n",
              "      <td>8.0500</td>\n",
              "      <td>NaN</td>\n",
              "      <td>S</td>\n",
              "    </tr>\n",
              "  </tbody>\n",
              "</table>\n",
              "</div>"
            ],
            "text/plain": [
              "   PassengerId  Survived  Pclass  ...     Fare Cabin  Embarked\n",
              "0            1         0       3  ...   7.2500   NaN         S\n",
              "1            2         1       1  ...  71.2833   C85         C\n",
              "2            3         1       3  ...   7.9250   NaN         S\n",
              "3            4         1       1  ...  53.1000  C123         S\n",
              "4            5         0       3  ...   8.0500   NaN         S\n",
              "\n",
              "[5 rows x 12 columns]"
            ]
          },
          "metadata": {
            "tags": []
          },
          "execution_count": 8
        }
      ]
    },
    {
      "cell_type": "code",
      "metadata": {
        "id": "6NqOyWU66Xzb",
        "colab_type": "code",
        "outputId": "9fbc7064-fa3a-4fbb-986d-dff906121cac",
        "colab": {
          "base_uri": "https://localhost:8080/",
          "height": 204
        }
      },
      "source": [
        "df[pd.isnull(df).any(axis=1)].head()"
      ],
      "execution_count": 9,
      "outputs": [
        {
          "output_type": "execute_result",
          "data": {
            "text/html": [
              "<div>\n",
              "<style scoped>\n",
              "    .dataframe tbody tr th:only-of-type {\n",
              "        vertical-align: middle;\n",
              "    }\n",
              "\n",
              "    .dataframe tbody tr th {\n",
              "        vertical-align: top;\n",
              "    }\n",
              "\n",
              "    .dataframe thead th {\n",
              "        text-align: right;\n",
              "    }\n",
              "</style>\n",
              "<table border=\"1\" class=\"dataframe\">\n",
              "  <thead>\n",
              "    <tr style=\"text-align: right;\">\n",
              "      <th></th>\n",
              "      <th>PassengerId</th>\n",
              "      <th>Survived</th>\n",
              "      <th>Pclass</th>\n",
              "      <th>Name</th>\n",
              "      <th>Sex</th>\n",
              "      <th>Age</th>\n",
              "      <th>SibSp</th>\n",
              "      <th>Parch</th>\n",
              "      <th>Ticket</th>\n",
              "      <th>Fare</th>\n",
              "      <th>Cabin</th>\n",
              "      <th>Embarked</th>\n",
              "    </tr>\n",
              "  </thead>\n",
              "  <tbody>\n",
              "    <tr>\n",
              "      <th>0</th>\n",
              "      <td>1</td>\n",
              "      <td>0</td>\n",
              "      <td>3</td>\n",
              "      <td>Braund, Mr. Owen Harris</td>\n",
              "      <td>male</td>\n",
              "      <td>22.0</td>\n",
              "      <td>1</td>\n",
              "      <td>0</td>\n",
              "      <td>A/5 21171</td>\n",
              "      <td>7.2500</td>\n",
              "      <td>NaN</td>\n",
              "      <td>S</td>\n",
              "    </tr>\n",
              "    <tr>\n",
              "      <th>2</th>\n",
              "      <td>3</td>\n",
              "      <td>1</td>\n",
              "      <td>3</td>\n",
              "      <td>Heikkinen, Miss. Laina</td>\n",
              "      <td>female</td>\n",
              "      <td>26.0</td>\n",
              "      <td>0</td>\n",
              "      <td>0</td>\n",
              "      <td>STON/O2. 3101282</td>\n",
              "      <td>7.9250</td>\n",
              "      <td>NaN</td>\n",
              "      <td>S</td>\n",
              "    </tr>\n",
              "    <tr>\n",
              "      <th>4</th>\n",
              "      <td>5</td>\n",
              "      <td>0</td>\n",
              "      <td>3</td>\n",
              "      <td>Allen, Mr. William Henry</td>\n",
              "      <td>male</td>\n",
              "      <td>35.0</td>\n",
              "      <td>0</td>\n",
              "      <td>0</td>\n",
              "      <td>373450</td>\n",
              "      <td>8.0500</td>\n",
              "      <td>NaN</td>\n",
              "      <td>S</td>\n",
              "    </tr>\n",
              "    <tr>\n",
              "      <th>5</th>\n",
              "      <td>6</td>\n",
              "      <td>0</td>\n",
              "      <td>3</td>\n",
              "      <td>Moran, Mr. James</td>\n",
              "      <td>male</td>\n",
              "      <td>NaN</td>\n",
              "      <td>0</td>\n",
              "      <td>0</td>\n",
              "      <td>330877</td>\n",
              "      <td>8.4583</td>\n",
              "      <td>NaN</td>\n",
              "      <td>Q</td>\n",
              "    </tr>\n",
              "    <tr>\n",
              "      <th>7</th>\n",
              "      <td>8</td>\n",
              "      <td>0</td>\n",
              "      <td>3</td>\n",
              "      <td>Palsson, Master. Gosta Leonard</td>\n",
              "      <td>male</td>\n",
              "      <td>2.0</td>\n",
              "      <td>3</td>\n",
              "      <td>1</td>\n",
              "      <td>349909</td>\n",
              "      <td>21.0750</td>\n",
              "      <td>NaN</td>\n",
              "      <td>S</td>\n",
              "    </tr>\n",
              "  </tbody>\n",
              "</table>\n",
              "</div>"
            ],
            "text/plain": [
              "   PassengerId  Survived  Pclass  ...     Fare Cabin  Embarked\n",
              "0            1         0       3  ...   7.2500   NaN         S\n",
              "2            3         1       3  ...   7.9250   NaN         S\n",
              "4            5         0       3  ...   8.0500   NaN         S\n",
              "5            6         0       3  ...   8.4583   NaN         Q\n",
              "7            8         0       3  ...  21.0750   NaN         S\n",
              "\n",
              "[5 rows x 12 columns]"
            ]
          },
          "metadata": {
            "tags": []
          },
          "execution_count": 9
        }
      ]
    },
    {
      "cell_type": "markdown",
      "metadata": {
        "id": "deFx-TSIDYki",
        "colab_type": "text"
      },
      "source": [
        "## Schema Prep"
      ]
    },
    {
      "cell_type": "code",
      "metadata": {
        "id": "dvDWrVzySH0j",
        "colab_type": "code",
        "outputId": "e701c143-d0a8-4090-b21d-004a4040b2ed",
        "colab": {
          "base_uri": "https://localhost:8080/",
          "height": 421
        }
      },
      "source": [
        "cols_df = pd.DataFrame(df.dtypes).reset_index()\n",
        "cols_df.columns = ['Field',\"Type\"]\n",
        "cols_df"
      ],
      "execution_count": 10,
      "outputs": [
        {
          "output_type": "execute_result",
          "data": {
            "text/html": [
              "<div>\n",
              "<style scoped>\n",
              "    .dataframe tbody tr th:only-of-type {\n",
              "        vertical-align: middle;\n",
              "    }\n",
              "\n",
              "    .dataframe tbody tr th {\n",
              "        vertical-align: top;\n",
              "    }\n",
              "\n",
              "    .dataframe thead th {\n",
              "        text-align: right;\n",
              "    }\n",
              "</style>\n",
              "<table border=\"1\" class=\"dataframe\">\n",
              "  <thead>\n",
              "    <tr style=\"text-align: right;\">\n",
              "      <th></th>\n",
              "      <th>Field</th>\n",
              "      <th>Type</th>\n",
              "    </tr>\n",
              "  </thead>\n",
              "  <tbody>\n",
              "    <tr>\n",
              "      <th>0</th>\n",
              "      <td>PassengerId</td>\n",
              "      <td>int64</td>\n",
              "    </tr>\n",
              "    <tr>\n",
              "      <th>1</th>\n",
              "      <td>Survived</td>\n",
              "      <td>int64</td>\n",
              "    </tr>\n",
              "    <tr>\n",
              "      <th>2</th>\n",
              "      <td>Pclass</td>\n",
              "      <td>int64</td>\n",
              "    </tr>\n",
              "    <tr>\n",
              "      <th>3</th>\n",
              "      <td>Name</td>\n",
              "      <td>object</td>\n",
              "    </tr>\n",
              "    <tr>\n",
              "      <th>4</th>\n",
              "      <td>Sex</td>\n",
              "      <td>object</td>\n",
              "    </tr>\n",
              "    <tr>\n",
              "      <th>5</th>\n",
              "      <td>Age</td>\n",
              "      <td>float64</td>\n",
              "    </tr>\n",
              "    <tr>\n",
              "      <th>6</th>\n",
              "      <td>SibSp</td>\n",
              "      <td>int64</td>\n",
              "    </tr>\n",
              "    <tr>\n",
              "      <th>7</th>\n",
              "      <td>Parch</td>\n",
              "      <td>int64</td>\n",
              "    </tr>\n",
              "    <tr>\n",
              "      <th>8</th>\n",
              "      <td>Ticket</td>\n",
              "      <td>object</td>\n",
              "    </tr>\n",
              "    <tr>\n",
              "      <th>9</th>\n",
              "      <td>Fare</td>\n",
              "      <td>float64</td>\n",
              "    </tr>\n",
              "    <tr>\n",
              "      <th>10</th>\n",
              "      <td>Cabin</td>\n",
              "      <td>object</td>\n",
              "    </tr>\n",
              "    <tr>\n",
              "      <th>11</th>\n",
              "      <td>Embarked</td>\n",
              "      <td>object</td>\n",
              "    </tr>\n",
              "  </tbody>\n",
              "</table>\n",
              "</div>"
            ],
            "text/plain": [
              "          Field     Type\n",
              "0   PassengerId    int64\n",
              "1      Survived    int64\n",
              "2        Pclass    int64\n",
              "3          Name   object\n",
              "4           Sex   object\n",
              "5           Age  float64\n",
              "6         SibSp    int64\n",
              "7         Parch    int64\n",
              "8        Ticket   object\n",
              "9          Fare  float64\n",
              "10        Cabin   object\n",
              "11     Embarked   object"
            ]
          },
          "metadata": {
            "tags": []
          },
          "execution_count": 10
        }
      ]
    },
    {
      "cell_type": "code",
      "metadata": {
        "id": "8Xa1OOeDT7GE",
        "colab_type": "code",
        "outputId": "9c63e3f2-6854-4457-a470-82b722acb96a",
        "colab": {
          "base_uri": "https://localhost:8080/",
          "height": 421
        }
      },
      "source": [
        "cols_df['Type'].loc[cols_df['Type'] == 'object'] = \"STRING\"\n",
        "cols_df['Type'].loc[cols_df['Type'] == 'int64'] = \"INTEGER\"\n",
        "cols_df['Type'].loc[cols_df['Type'] == 'float64'] = \"FLOAT\"\n",
        "cols_df['Type'].loc[cols_df['Field'] == 'InvoiceDate'] = \"DATE\"\n",
        "\n",
        "cols_df"
      ],
      "execution_count": 11,
      "outputs": [
        {
          "output_type": "execute_result",
          "data": {
            "text/html": [
              "<div>\n",
              "<style scoped>\n",
              "    .dataframe tbody tr th:only-of-type {\n",
              "        vertical-align: middle;\n",
              "    }\n",
              "\n",
              "    .dataframe tbody tr th {\n",
              "        vertical-align: top;\n",
              "    }\n",
              "\n",
              "    .dataframe thead th {\n",
              "        text-align: right;\n",
              "    }\n",
              "</style>\n",
              "<table border=\"1\" class=\"dataframe\">\n",
              "  <thead>\n",
              "    <tr style=\"text-align: right;\">\n",
              "      <th></th>\n",
              "      <th>Field</th>\n",
              "      <th>Type</th>\n",
              "    </tr>\n",
              "  </thead>\n",
              "  <tbody>\n",
              "    <tr>\n",
              "      <th>0</th>\n",
              "      <td>PassengerId</td>\n",
              "      <td>INTEGER</td>\n",
              "    </tr>\n",
              "    <tr>\n",
              "      <th>1</th>\n",
              "      <td>Survived</td>\n",
              "      <td>INTEGER</td>\n",
              "    </tr>\n",
              "    <tr>\n",
              "      <th>2</th>\n",
              "      <td>Pclass</td>\n",
              "      <td>INTEGER</td>\n",
              "    </tr>\n",
              "    <tr>\n",
              "      <th>3</th>\n",
              "      <td>Name</td>\n",
              "      <td>STRING</td>\n",
              "    </tr>\n",
              "    <tr>\n",
              "      <th>4</th>\n",
              "      <td>Sex</td>\n",
              "      <td>STRING</td>\n",
              "    </tr>\n",
              "    <tr>\n",
              "      <th>5</th>\n",
              "      <td>Age</td>\n",
              "      <td>FLOAT</td>\n",
              "    </tr>\n",
              "    <tr>\n",
              "      <th>6</th>\n",
              "      <td>SibSp</td>\n",
              "      <td>INTEGER</td>\n",
              "    </tr>\n",
              "    <tr>\n",
              "      <th>7</th>\n",
              "      <td>Parch</td>\n",
              "      <td>INTEGER</td>\n",
              "    </tr>\n",
              "    <tr>\n",
              "      <th>8</th>\n",
              "      <td>Ticket</td>\n",
              "      <td>STRING</td>\n",
              "    </tr>\n",
              "    <tr>\n",
              "      <th>9</th>\n",
              "      <td>Fare</td>\n",
              "      <td>FLOAT</td>\n",
              "    </tr>\n",
              "    <tr>\n",
              "      <th>10</th>\n",
              "      <td>Cabin</td>\n",
              "      <td>STRING</td>\n",
              "    </tr>\n",
              "    <tr>\n",
              "      <th>11</th>\n",
              "      <td>Embarked</td>\n",
              "      <td>STRING</td>\n",
              "    </tr>\n",
              "  </tbody>\n",
              "</table>\n",
              "</div>"
            ],
            "text/plain": [
              "          Field     Type\n",
              "0   PassengerId  INTEGER\n",
              "1      Survived  INTEGER\n",
              "2        Pclass  INTEGER\n",
              "3          Name   STRING\n",
              "4           Sex   STRING\n",
              "5           Age    FLOAT\n",
              "6         SibSp  INTEGER\n",
              "7         Parch  INTEGER\n",
              "8        Ticket   STRING\n",
              "9          Fare    FLOAT\n",
              "10        Cabin   STRING\n",
              "11     Embarked   STRING"
            ]
          },
          "metadata": {
            "tags": []
          },
          "execution_count": 11
        }
      ]
    },
    {
      "cell_type": "code",
      "metadata": {
        "id": "1bR-6wAFQDsp",
        "colab_type": "code",
        "outputId": "b808d8f6-e9a4-49cd-bc4f-06f5623fd815",
        "colab": {
          "base_uri": "https://localhost:8080/",
          "height": 221
        }
      },
      "source": [
        "schema_dict = {}\n",
        "cols = []\n",
        "for index, row in cols_df.iterrows():\n",
        "  schema_dict[row['Field']]=row['Type']\n",
        "  cols.append(row['Field'])\n",
        "schema_dict"
      ],
      "execution_count": 12,
      "outputs": [
        {
          "output_type": "execute_result",
          "data": {
            "text/plain": [
              "{'Age': 'FLOAT',\n",
              " 'Cabin': 'STRING',\n",
              " 'Embarked': 'STRING',\n",
              " 'Fare': 'FLOAT',\n",
              " 'Name': 'STRING',\n",
              " 'Parch': 'INTEGER',\n",
              " 'PassengerId': 'INTEGER',\n",
              " 'Pclass': 'INTEGER',\n",
              " 'Sex': 'STRING',\n",
              " 'SibSp': 'INTEGER',\n",
              " 'Survived': 'INTEGER',\n",
              " 'Ticket': 'STRING'}"
            ]
          },
          "metadata": {
            "tags": []
          },
          "execution_count": 12
        }
      ]
    },
    {
      "cell_type": "code",
      "metadata": {
        "id": "Vedzd4NeqPZz",
        "colab_type": "code",
        "outputId": "4d7379dd-d987-45e9-ec50-c4c90936b3ac",
        "colab": {
          "base_uri": "https://localhost:8080/",
          "height": 221
        }
      },
      "source": [
        "cols"
      ],
      "execution_count": 13,
      "outputs": [
        {
          "output_type": "execute_result",
          "data": {
            "text/plain": [
              "['PassengerId',\n",
              " 'Survived',\n",
              " 'Pclass',\n",
              " 'Name',\n",
              " 'Sex',\n",
              " 'Age',\n",
              " 'SibSp',\n",
              " 'Parch',\n",
              " 'Ticket',\n",
              " 'Fare',\n",
              " 'Cabin',\n",
              " 'Embarked']"
            ]
          },
          "metadata": {
            "tags": []
          },
          "execution_count": 13
        }
      ]
    },
    {
      "cell_type": "code",
      "metadata": {
        "id": "QnTYjGBVj2yF",
        "colab_type": "code",
        "outputId": "aeef9acf-0f8b-4713-8958-522ee42b02b0",
        "colab": {
          "base_uri": "https://localhost:8080/",
          "height": 54
        }
      },
      "source": [
        "# creating the schema like apache.beam needs it for writing to BigQuerry\n",
        "schema = \",\".join([row['Field'] + \":\" + row['Type'] for index, row in cols_df.iterrows()])\n",
        "print (schema)   \n"
      ],
      "execution_count": 14,
      "outputs": [
        {
          "output_type": "stream",
          "text": [
            "PassengerId:INTEGER,Survived:INTEGER,Pclass:INTEGER,Name:STRING,Sex:STRING,Age:FLOAT,SibSp:INTEGER,Parch:INTEGER,Ticket:STRING,Fare:FLOAT,Cabin:STRING,Embarked:STRING\n"
          ],
          "name": "stdout"
        }
      ]
    },
    {
      "cell_type": "markdown",
      "metadata": {
        "id": "ulIUeo2-DiRL",
        "colab_type": "text"
      },
      "source": [
        "## Cleansing and prepping Transform Functions"
      ]
    },
    {
      "cell_type": "code",
      "metadata": {
        "id": "YYEAXRygHCKE",
        "colab_type": "code",
        "colab": {}
      },
      "source": [
        "#using this function to read non ascii text files.\n",
        "\n",
        "# from https://stackoverflow.com/questions/51935581/apache-beam-gcp-dataflow-encoding-issue\n",
        "from apache_beam.coders.coders import Coder\n",
        "\n",
        "class ISOCoder(Coder):\n",
        "    \"\"\"A coder used for reading and writing strings as ISO-8859-1.\"\"\"\n",
        "\n",
        "    def encode(self, value):\n",
        "        return value.encode('iso-8859-1')\n",
        "\n",
        "    def decode(self, value):\n",
        "        return value.decode('iso-8859-1')\n",
        "\n",
        "    def is_deterministic(self):\n",
        "        return True"
      ],
      "execution_count": 0,
      "outputs": []
    },
    {
      "cell_type": "code",
      "metadata": {
        "id": "32BkNeUSBDTD",
        "colab_type": "code",
        "colab": {}
      },
      "source": [
        "# splitting date properly and setting it into YYYY-MM-DD format so BigQuerry can read it.\n",
        "def fix_date(s_date):\n",
        "  x1 = s_date.split(' ')\n",
        "  x = x1[0].split(\"/\")\n",
        "  s_date = \"{:04d}-{:02d}-{:02d}\".format(2000+int(x[2]),int(x[1]),int(x[0]))\n",
        "\n",
        "  return s_date"
      ],
      "execution_count": 0,
      "outputs": []
    },
    {
      "cell_type": "code",
      "metadata": {
        "id": "sr7G4zQEd0_a",
        "colab_type": "code",
        "colab": {}
      },
      "source": [
        "import re\n",
        "def fix_text(field):\n",
        "  if field == \"\":\n",
        "    return \"\"\n",
        "  #cleaing up other fields, could be modified to be done in one regex\n",
        "  field = field.replace(\",\",\" \") \n",
        "  field = field.replace('\"',\" \") \n",
        "  \n",
        "  #removing non standard ascii characeters.\n",
        "  field = re.sub(r'[^\\x00-\\x7f]',r'', field)\n",
        "\n",
        "  return field"
      ],
      "execution_count": 0,
      "outputs": []
    },
    {
      "cell_type": "code",
      "metadata": {
        "id": "VcWeNLlsuVlA",
        "colab_type": "code",
        "colab": {}
      },
      "source": [
        "def create_row(fields):\n",
        "\n",
        "    featdict = {}\n",
        "    for name, value in zip(cols, fields):\n",
        "        if schema_dict[name] == 'INTEGER':\n",
        "          if value == '':\n",
        "            featdict[name] = 0\n",
        "          else:  \n",
        "            featdict[name] = int(value)\n",
        "        if schema_dict[name] == 'FLOAT':\n",
        "          if value == '':\n",
        "            featdict[name] = 0\n",
        "          else:  \n",
        "            featdict[name] = float(value)\n",
        "        if schema_dict[name] == 'STRING': \n",
        "            featdict[name] = fix_text(value)\n",
        "        if schema_dict[name] == 'DATE': \n",
        "            featdict[name] = fix_date(value)         \n",
        "    return featdict\n"
      ],
      "execution_count": 0,
      "outputs": []
    },
    {
      "cell_type": "markdown",
      "metadata": {
        "id": "j88LoB2EOFt_",
        "colab_type": "text"
      },
      "source": [
        "# The Magic\n"
      ]
    },
    {
      "cell_type": "code",
      "metadata": {
        "id": "I0AKWWkAOFM9",
        "colab_type": "code",
        "outputId": "3b07ad5a-0332-45e6-d358-fc17f5f44aec",
        "colab": {
          "base_uri": "https://localhost:8080/",
          "height": 136
        }
      },
      "source": [
        "ls -al"
      ],
      "execution_count": 19,
      "outputs": [
        {
          "output_type": "stream",
          "text": [
            "total 88\n",
            "drwxr-xr-x 1 root root  4096 Sep  8 19:29 \u001b[0m\u001b[01;34m.\u001b[0m/\n",
            "drwxr-xr-x 1 root root  4096 Sep  8 19:13 \u001b[01;34m..\u001b[0m/\n",
            "-rw-r--r-- 1 root root  2497 Sep  8 19:23 adc.json\n",
            "drwxr-xr-x 1 root root  4096 Sep  8 19:23 \u001b[01;34m.config\u001b[0m/\n",
            "drwxr-xr-x 1 root root  4096 Aug 27 16:17 \u001b[01;34msample_data\u001b[0m/\n",
            "-rw-r--r-- 1 root root 60302 Sep  8 19:29 titanic.csv\n"
          ],
          "name": "stdout"
        }
      ]
    },
    {
      "cell_type": "code",
      "metadata": {
        "id": "1aCwCDMhpHSs",
        "colab_type": "code",
        "outputId": "a1994c7a-f240-4c28-a99a-29f6b7abff6a",
        "colab": {
          "base_uri": "https://localhost:8080/",
          "height": 34
        }
      },
      "source": [
        "# this is where the magic happens.\n",
        "pipeline = beam.Pipeline('DirectRunner')\n",
        "airports = (pipeline\n",
        "           | beam.io.ReadFromText('gs://arivolibucket/'+fname,skip_header_lines=1,coder=ISOCoder())\n",
        "           | beam.Map(lambda line: next(csv.reader([line])))\n",
        "           | beam.Map(lambda line:create_row(line))\n",
        "           | beam.io.textio.WriteToText('out_temp.csv'))\n",
        "\n",
        "pipeline.run()"
      ],
      "execution_count": 21,
      "outputs": [
        {
          "output_type": "execute_result",
          "data": {
            "text/plain": [
              "<apache_beam.runners.portability.fn_api_runner.RunnerResult at 0x7fbf9c4789e8>"
            ]
          },
          "metadata": {
            "tags": []
          },
          "execution_count": 21
        }
      ]
    },
    {
      "cell_type": "code",
      "metadata": {
        "id": "EUXRDnoqquCI",
        "colab_type": "code",
        "outputId": "8da4f903-f0e0-4f4b-8e90-785c6eb1a63a",
        "colab": {
          "base_uri": "https://localhost:8080/",
          "height": 153
        }
      },
      "source": [
        "!ls -al"
      ],
      "execution_count": 22,
      "outputs": [
        {
          "output_type": "stream",
          "text": [
            "total 268\n",
            "drwxr-xr-x 1 root root   4096 Sep  8 19:30 .\n",
            "drwxr-xr-x 1 root root   4096 Sep  8 19:13 ..\n",
            "-rw-r--r-- 1 root root   2497 Sep  8 19:23 adc.json\n",
            "drwxr-xr-x 1 root root   4096 Sep  8 19:23 .config\n",
            "-rw-r--r-- 1 root root 184060 Sep  8 19:30 out_temp.csv-00000-of-00001\n",
            "drwxr-xr-x 1 root root   4096 Aug 27 16:17 sample_data\n",
            "-rw-r--r-- 1 root root  60302 Sep  8 19:29 titanic.csv\n"
          ],
          "name": "stdout"
        }
      ]
    },
    {
      "cell_type": "code",
      "metadata": {
        "id": "qswdaSe5qwoK",
        "colab_type": "code",
        "outputId": "206bc6ef-ec6c-436b-f3c7-15f440f526a2",
        "colab": {
          "base_uri": "https://localhost:8080/",
          "height": 207
        }
      },
      "source": [
        "!head out_temp.csv-00000-of-00001\n"
      ],
      "execution_count": 23,
      "outputs": [
        {
          "output_type": "stream",
          "text": [
            "{'PassengerId': 1, 'Survived': 0, 'Pclass': 3, 'Name': 'Braund  Mr. Owen Harris', 'Sex': 'male', 'Age': 22.0, 'SibSp': 1, 'Parch': 0, 'Ticket': 'A/5 21171', 'Fare': 7.25, 'Cabin': '', 'Embarked': 'S'}\n",
            "{'PassengerId': 2, 'Survived': 1, 'Pclass': 1, 'Name': 'Cumings  Mrs. John Bradley (Florence Briggs Thayer)', 'Sex': 'female', 'Age': 38.0, 'SibSp': 1, 'Parch': 0, 'Ticket': 'PC 17599', 'Fare': 71.2833, 'Cabin': 'C85', 'Embarked': 'C'}\n",
            "{'PassengerId': 3, 'Survived': 1, 'Pclass': 3, 'Name': 'Heikkinen  Miss. Laina', 'Sex': 'female', 'Age': 26.0, 'SibSp': 0, 'Parch': 0, 'Ticket': 'STON/O2. 3101282', 'Fare': 7.925, 'Cabin': '', 'Embarked': 'S'}\n",
            "{'PassengerId': 4, 'Survived': 1, 'Pclass': 1, 'Name': 'Futrelle  Mrs. Jacques Heath (Lily May Peel)', 'Sex': 'female', 'Age': 35.0, 'SibSp': 1, 'Parch': 0, 'Ticket': '113803', 'Fare': 53.1, 'Cabin': 'C123', 'Embarked': 'S'}\n",
            "{'PassengerId': 5, 'Survived': 0, 'Pclass': 3, 'Name': 'Allen  Mr. William Henry', 'Sex': 'male', 'Age': 35.0, 'SibSp': 0, 'Parch': 0, 'Ticket': '373450', 'Fare': 8.05, 'Cabin': '', 'Embarked': 'S'}\n",
            "{'PassengerId': 6, 'Survived': 0, 'Pclass': 3, 'Name': 'Moran  Mr. James', 'Sex': 'male', 'Age': 0, 'SibSp': 0, 'Parch': 0, 'Ticket': '330877', 'Fare': 8.4583, 'Cabin': '', 'Embarked': 'Q'}\n",
            "{'PassengerId': 7, 'Survived': 0, 'Pclass': 1, 'Name': 'McCarthy  Mr. Timothy J', 'Sex': 'male', 'Age': 54.0, 'SibSp': 0, 'Parch': 0, 'Ticket': '17463', 'Fare': 51.8625, 'Cabin': 'E46', 'Embarked': 'S'}\n",
            "{'PassengerId': 8, 'Survived': 0, 'Pclass': 3, 'Name': 'Palsson  Master. Gosta Leonard', 'Sex': 'male', 'Age': 2.0, 'SibSp': 3, 'Parch': 1, 'Ticket': '349909', 'Fare': 21.075, 'Cabin': '', 'Embarked': 'S'}\n",
            "{'PassengerId': 9, 'Survived': 1, 'Pclass': 3, 'Name': 'Johnson  Mrs. Oscar W (Elisabeth Vilhelmina Berg)', 'Sex': 'female', 'Age': 27.0, 'SibSp': 0, 'Parch': 2, 'Ticket': '347742', 'Fare': 11.1333, 'Cabin': '', 'Embarked': 'S'}\n",
            "{'PassengerId': 10, 'Survived': 1, 'Pclass': 2, 'Name': 'Nasser  Mrs. Nicholas (Adele Achem)', 'Sex': 'female', 'Age': 14.0, 'SibSp': 1, 'Parch': 0, 'Ticket': '237736', 'Fare': 30.0708, 'Cabin': '', 'Embarked': 'C'}\n"
          ],
          "name": "stdout"
        }
      ]
    },
    {
      "cell_type": "code",
      "metadata": {
        "id": "CAjiREMR7m-a",
        "colab_type": "code",
        "outputId": "1208cfe8-a5c8-4520-ddf4-fabcd3830c58",
        "colab": {
          "base_uri": "https://localhost:8080/",
          "height": 207
        }
      },
      "source": [
        "!tail out_temp.csv-00000-of-00001"
      ],
      "execution_count": 24,
      "outputs": [
        {
          "output_type": "stream",
          "text": [
            "{'PassengerId': 882, 'Survived': 0, 'Pclass': 3, 'Name': 'Markun  Mr. Johann', 'Sex': 'male', 'Age': 33.0, 'SibSp': 0, 'Parch': 0, 'Ticket': '349257', 'Fare': 7.8958, 'Cabin': '', 'Embarked': 'S'}\n",
            "{'PassengerId': 883, 'Survived': 0, 'Pclass': 3, 'Name': 'Dahlberg  Miss. Gerda Ulrika', 'Sex': 'female', 'Age': 22.0, 'SibSp': 0, 'Parch': 0, 'Ticket': '7552', 'Fare': 10.5167, 'Cabin': '', 'Embarked': 'S'}\n",
            "{'PassengerId': 884, 'Survived': 0, 'Pclass': 2, 'Name': 'Banfield  Mr. Frederick James', 'Sex': 'male', 'Age': 28.0, 'SibSp': 0, 'Parch': 0, 'Ticket': 'C.A./SOTON 34068', 'Fare': 10.5, 'Cabin': '', 'Embarked': 'S'}\n",
            "{'PassengerId': 885, 'Survived': 0, 'Pclass': 3, 'Name': 'Sutehall  Mr. Henry Jr', 'Sex': 'male', 'Age': 25.0, 'SibSp': 0, 'Parch': 0, 'Ticket': 'SOTON/OQ 392076', 'Fare': 7.05, 'Cabin': '', 'Embarked': 'S'}\n",
            "{'PassengerId': 886, 'Survived': 0, 'Pclass': 3, 'Name': 'Rice  Mrs. William (Margaret Norton)', 'Sex': 'female', 'Age': 39.0, 'SibSp': 0, 'Parch': 5, 'Ticket': '382652', 'Fare': 29.125, 'Cabin': '', 'Embarked': 'Q'}\n",
            "{'PassengerId': 887, 'Survived': 0, 'Pclass': 2, 'Name': 'Montvila  Rev. Juozas', 'Sex': 'male', 'Age': 27.0, 'SibSp': 0, 'Parch': 0, 'Ticket': '211536', 'Fare': 13.0, 'Cabin': '', 'Embarked': 'S'}\n",
            "{'PassengerId': 888, 'Survived': 1, 'Pclass': 1, 'Name': 'Graham  Miss. Margaret Edith', 'Sex': 'female', 'Age': 19.0, 'SibSp': 0, 'Parch': 0, 'Ticket': '112053', 'Fare': 30.0, 'Cabin': 'B42', 'Embarked': 'S'}\n",
            "{'PassengerId': 889, 'Survived': 0, 'Pclass': 3, 'Name': 'Johnston  Miss. Catherine Helen  Carrie ', 'Sex': 'female', 'Age': 0, 'SibSp': 1, 'Parch': 2, 'Ticket': 'W./C. 6607', 'Fare': 23.45, 'Cabin': '', 'Embarked': 'S'}\n",
            "{'PassengerId': 890, 'Survived': 1, 'Pclass': 1, 'Name': 'Behr  Mr. Karl Howell', 'Sex': 'male', 'Age': 26.0, 'SibSp': 0, 'Parch': 0, 'Ticket': '111369', 'Fare': 30.0, 'Cabin': 'C148', 'Embarked': 'C'}\n",
            "{'PassengerId': 891, 'Survived': 0, 'Pclass': 3, 'Name': 'Dooley  Mr. Patrick', 'Sex': 'male', 'Age': 32.0, 'SibSp': 0, 'Parch': 0, 'Ticket': '370376', 'Fare': 7.75, 'Cabin': '', 'Embarked': 'Q'}\n"
          ],
          "name": "stdout"
        }
      ]
    },
    {
      "cell_type": "code",
      "metadata": {
        "id": "mleS4S7PuiMN",
        "colab_type": "code",
        "outputId": "fc18baf1-35ed-4042-e674-638399efc185",
        "colab": {
          "base_uri": "https://localhost:8080/",
          "height": 88
        }
      },
      "source": [
        "# this is where the magic happens.\n",
        "bq_table = \"titanicproject:load_data.titanic\" #change this for your project and dataset\n",
        "\n",
        "pipeline = beam.Pipeline('DirectRunner')\n",
        "airports = (pipeline\n",
        "           | beam.io.ReadFromText('gs://arivolibucket/'+fname,skip_header_lines=1,coder=ISOCoder())\n",
        "           | beam.Map(lambda line: next(csv.reader([line])))\n",
        "           | beam.Map(lambda line:create_row(line))\n",
        "           | 'events:out' >> beam.io.Write(beam.io.BigQuerySink(\n",
        "                              bq_table, schema=schema,\n",
        "                              write_disposition=beam.io.BigQueryDisposition.WRITE_TRUNCATE,\n",
        "                              create_disposition=beam.io.BigQueryDisposition.CREATE_IF_NEEDED)))\n",
        "pipeline.run()"
      ],
      "execution_count": 28,
      "outputs": [
        {
          "output_type": "stream",
          "text": [
            "/usr/local/lib/python3.6/dist-packages/ipykernel_launcher.py:11: BeamDeprecationWarning: BigQuerySink is deprecated since 2.11.0. Use WriteToBigQuery instead.\n",
            "  # This is added back by InteractiveShellApp.init_path()\n"
          ],
          "name": "stderr"
        },
        {
          "output_type": "execute_result",
          "data": {
            "text/plain": [
              "<apache_beam.runners.direct.direct_runner.DirectPipelineResult at 0x7fbf9ab37518>"
            ]
          },
          "metadata": {
            "tags": []
          },
          "execution_count": 28
        }
      ]
    },
    {
      "cell_type": "code",
      "metadata": {
        "id": "IKCcBn60E-6Q",
        "colab_type": "code",
        "colab": {}
      },
      "source": [
        ""
      ],
      "execution_count": 0,
      "outputs": []
    }
  ]
}